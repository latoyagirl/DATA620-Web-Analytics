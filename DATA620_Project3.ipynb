{
 "cells": [
  {
   "cell_type": "markdown",
   "metadata": {},
   "source": [
    "<div class=\"alert alert-block alert-info\"><h1><center> DATA 620_Project3_Document Classification </center></h1></div>\n"
   ]
  },
  {
   "cell_type": "markdown",
   "metadata": {},
   "source": [
    "### Author: Juanelle Marks"
   ]
  },
  {
   "cell_type": "markdown",
   "metadata": {},
   "source": [
    "Using any of the three classifiers described in chapter 6 of Natural Language Processing with Python, and any features you can think of, build the best name gender classifier you can.\n",
    "\n",
    "Begin by splitting the Names Corpus into three subsets: 500 words for the test set, 500 words for the devtest set, and the remaining 6900 words for the training set. Then, starting with the example name gender classifier, make incremental improvements. Use the dev-test set to check your progress. Once you are satisfied with your classifier, check its final performance on the test set.\n",
    "\n",
    "How does the performance on the test set compare to the performance on the dev-test set? Is this what you'd expect?\n",
    "\n",
    "Source: Natural Language Processing with Python, exercise 6.10.2."
   ]
  },
  {
   "cell_type": "markdown",
   "metadata": {},
   "source": [
    "### Project Plan"
   ]
  },
  {
   "cell_type": "markdown",
   "metadata": {},
   "source": [
    "My project will follow the following order:\n",
    "\n",
    "1. Explore features and classifier used in text NLP Chapter 6. This exploration will give ideas on how i can      incrementally improve the the classifier.\n",
    "<br>\n",
    "\n",
    "2. Create features that are guided by outputs from an analysis of the classifiers used in the text.\n",
    "<br>\n",
    "\n",
    "3. Evaluate classifiers so as to make inferences about which one may be best."
   ]
  },
  {
   "cell_type": "markdown",
   "metadata": {},
   "source": [
    "###  <span style = 'color:red'>List of Headings for Ease of Navigation</span>"
   ]
  },
  {
   "cell_type": "markdown",
   "metadata": {},
   "source": [
    "Below is a list of main and subheadings used in this project. By project design, each feaurure is an improvement of the other."
   ]
  },
  {
   "cell_type": "markdown",
   "metadata": {},
   "source": [
    "* [Load Names Corpus and Libraries](#load_corpus)\n"
   ]
  },
  {
   "cell_type": "markdown",
   "metadata": {},
   "source": [
    "* [Part One: Features From Text](#Part_one)"
   ]
  },
  {
   "cell_type": "markdown",
   "metadata": {},
   "source": [
    "   * [Feature One](#feature_one)"
   ]
  },
  {
   "cell_type": "markdown",
   "metadata": {},
   "source": [
    "* [Feature Two](#feature_two)"
   ]
  },
  {
   "cell_type": "markdown",
   "metadata": {},
   "source": [
    "* [Part Two: Improvement Features](#Part_two)"
   ]
  },
  {
   "cell_type": "markdown",
   "metadata": {},
   "source": [
    "* [Feature Three](#feature_three)"
   ]
  },
  {
   "cell_type": "markdown",
   "metadata": {},
   "source": [
    "* [Feature Four](#feature_four)"
   ]
  },
  {
   "cell_type": "markdown",
   "metadata": {},
   "source": [
    "* [Feature Five](#feature_five)"
   ]
  },
  {
   "cell_type": "markdown",
   "metadata": {},
   "source": [
    "* [Feature Six](#feature_six)"
   ]
  },
  {
   "cell_type": "markdown",
   "metadata": {},
   "source": [
    "* [Conclusion](#conclusion)"
   ]
  },
  {
   "cell_type": "markdown",
   "metadata": {},
   "source": [
    "## Load Names Corpus and Libraries<a id = \"load_corpus\"></a>"
   ]
  },
  {
   "cell_type": "markdown",
   "metadata": {},
   "source": [
    "Relevant libraries are loaded along with the names corpus. In this section subsetting of the corpus into train,test and devtest is also done."
   ]
  },
  {
   "cell_type": "code",
   "execution_count": 366,
   "metadata": {},
   "outputs": [],
   "source": [
    "from nltk.corpus import names\n",
    "import random\n",
    "from nltk.classify import apply_features"
   ]
  },
  {
   "cell_type": "markdown",
   "metadata": {},
   "source": [
    "#### Get Names"
   ]
  },
  {
   "cell_type": "code",
   "execution_count": 361,
   "metadata": {},
   "outputs": [
    {
     "name": "stderr",
     "output_type": "stream",
     "text": [
      "[nltk_data] Downloading package names to /Users/juanelle/nltk_data...\n",
      "[nltk_data]   Package names is already up-to-date!\n"
     ]
    },
    {
     "data": {
      "text/plain": [
       "True"
      ]
     },
     "execution_count": 361,
     "metadata": {},
     "output_type": "execute_result"
    }
   ],
   "source": [
    "%matplotlib inline\n",
    "import nltk\n",
    "nltk.download('names')"
   ]
  },
  {
   "cell_type": "code",
   "execution_count": 362,
   "metadata": {},
   "outputs": [],
   "source": [
    "# a  seed is set to make the project reproducible.\n",
    "random.seed(1234) \n",
    "names=([(name, 'male') for name in names.words('male.txt')] +\n",
    "         [(name, 'female') for name in names.words('female.txt')])\n",
    "random.shuffle(names) \n"
   ]
  },
  {
   "cell_type": "code",
   "execution_count": 364,
   "metadata": {},
   "outputs": [
    {
     "name": "stdout",
     "output_type": "stream",
     "text": [
      "There are : 7944  in this corpus.\n"
     ]
    }
   ],
   "source": [
    "print(\"There are :\",len(names), \" in this corpus.\")"
   ]
  },
  {
   "cell_type": "code",
   "execution_count": 365,
   "metadata": {},
   "outputs": [],
   "source": [
    "#Split data\n",
    "test_names = names[:500]\n",
    "devtest_names = names[500:1000]\n",
    "train_names = names[1000:]"
   ]
  },
  {
   "cell_type": "markdown",
   "metadata": {},
   "source": [
    "<div class=\"alert alert-block alert-info\"><h2><center>Creating and \n",
    "   Evaluating Feature Extractors and Classifiers </center></h2></div>"
   ]
  },
  {
   "cell_type": "markdown",
   "metadata": {},
   "source": [
    "## Part One: Features From Text <a id = \"Part_one\"></a><br>"
   ]
  },
  {
   "cell_type": "markdown",
   "metadata": {},
   "source": [
    "The first two feature extractors used in this project were taken from Chapter 6 of the NLP text. See below an exploration of these extractors."
   ]
  },
  {
   "cell_type": "markdown",
   "metadata": {},
   "source": [
    "### Feature 1<a id = \"feature_one\"></a>"
   ]
  },
  {
   "cell_type": "code",
   "execution_count": 402,
   "metadata": {},
   "outputs": [],
   "source": [
    "#From text 1: Build feature extractor by looking at final letter in given name\n",
    "def gender_features(word):\n",
    "    \n",
    "    return {'last_letter': word[-1]}\n"
   ]
  },
  {
   "cell_type": "code",
   "execution_count": 403,
   "metadata": {},
   "outputs": [],
   "source": [
    "#apply feature to subsets\n",
    "train_set = [(gender_features(n), g) for (n,g) in train_names]\n",
    "devtest_set = [(gender_features(n), g) for (n,g) in devtest_names]\n",
    "test_set = [(gender_features(n), g) for (n,g) in test_names]\n",
    "\n"
   ]
  },
  {
   "cell_type": "code",
   "execution_count": 404,
   "metadata": {},
   "outputs": [],
   "source": [
    "#apply classifier to training set\n",
    "classifier = nltk.NaiveBayesClassifier.train(train_set)"
   ]
  },
  {
   "cell_type": "code",
   "execution_count": 405,
   "metadata": {},
   "outputs": [
    {
     "name": "stdout",
     "output_type": "stream",
     "text": [
      "male\n",
      "female\n"
     ]
    }
   ],
   "source": [
    "print(classifier.classify(gender_features('Neo'))) #male\n",
    "print(classifier.classify(gender_features('Trinity'))) #female"
   ]
  },
  {
   "cell_type": "code",
   "execution_count": 406,
   "metadata": {},
   "outputs": [
    {
     "name": "stdout",
     "output_type": "stream",
     "text": [
      "train_set:  0.7623847926267281\n",
      "test_set:  0.776\n",
      "devtest_set:  0.756\n"
     ]
    }
   ],
   "source": [
    "# Show Accuracy of classifier on all subsets\n",
    "print(\"train_set: \", nltk.classify.accuracy(classifier, train_set))\n",
    "print(\"test_set: \", nltk.classify.accuracy(classifier, test_set))\n",
    "print(\"devtest_set: \", nltk.classify.accuracy(classifier, devtest_set))"
   ]
  },
  {
   "cell_type": "code",
   "execution_count": 407,
   "metadata": {},
   "outputs": [
    {
     "name": "stdout",
     "output_type": "stream",
     "text": [
      "Most Informative Features\n",
      "             last_letter = 'k'              male : female =     41.3 : 1.0\n",
      "             last_letter = 'a'            female : male   =     37.2 : 1.0\n",
      "             last_letter = 'f'              male : female =     15.4 : 1.0\n",
      "             last_letter = 'd'              male : female =     10.7 : 1.0\n",
      "             last_letter = 'm'              male : female =     10.3 : 1.0\n",
      "             last_letter = 'v'              male : female =      9.9 : 1.0\n",
      "             last_letter = 'o'              male : female =      8.6 : 1.0\n",
      "             last_letter = 'p'              male : female =      8.5 : 1.0\n",
      "             last_letter = 'r'              male : female =      6.8 : 1.0\n",
      "             last_letter = 'g'              male : female =      5.5 : 1.0\n"
     ]
    }
   ],
   "source": [
    "# Show important features - features most effective for distinguising gender by names. \n",
    "#This process   guides the design of future feature extractors.\n",
    "classifier.show_most_informative_features(10)"
   ]
  },
  {
   "cell_type": "code",
   "execution_count": 408,
   "metadata": {},
   "outputs": [],
   "source": [
    "#Check errors\n",
    "errors = []\n",
    "for (name, tag) in devtest_names:\n",
    "    guess = classifier.classify(gender_features(name))\n",
    "    if guess != tag:\n",
    "        errors.append( (tag, guess, name) )"
   ]
  },
  {
   "cell_type": "code",
   "execution_count": 409,
   "metadata": {},
   "outputs": [
    {
     "name": "stdout",
     "output_type": "stream",
     "text": [
      "correct=female   guess=male     name=Aileen                        \n",
      "correct=female   guess=male     name=Alisun                        \n",
      "correct=female   guess=male     name=Alys                          \n",
      "correct=female   guess=male     name=Arabel                        \n",
      "correct=female   guess=male     name=Bird                          \n",
      "correct=female   guess=male     name=Bridget                       \n",
      "correct=female   guess=male     name=Brynn                         \n",
      "correct=female   guess=male     name=Carol                         \n",
      "correct=female   guess=male     name=Caroleen                      \n",
      "correct=female   guess=male     name=Caroljean                     \n",
      "correct=female   guess=male     name=Charis                        \n",
      "correct=female   guess=male     name=Christin                      \n",
      "correct=female   guess=male     name=Clair                         \n",
      "correct=female   guess=male     name=Claribel                      \n",
      "correct=female   guess=male     name=Darb                          \n",
      "correct=female   guess=male     name=Gennifer                      \n",
      "correct=female   guess=male     name=Gillan                        \n",
      "correct=female   guess=male     name=Gretchen                      \n",
      "correct=female   guess=male     name=Ingaberg                      \n",
      "correct=female   guess=male     name=Ingrid                        \n",
      "correct=female   guess=male     name=Isabeau                       \n",
      "correct=female   guess=male     name=Isis                          \n",
      "correct=female   guess=male     name=Jaynell                       \n",
      "correct=female   guess=male     name=Justin                        \n",
      "correct=female   guess=male     name=Karalynn                      \n",
      "correct=female   guess=male     name=Kaster                        \n",
      "correct=female   guess=male     name=Kathlin                       \n",
      "correct=female   guess=male     name=Kim                           \n",
      "correct=female   guess=male     name=Laural                        \n",
      "correct=female   guess=male     name=Leanor                        \n",
      "correct=female   guess=male     name=Lind                          \n",
      "correct=female   guess=male     name=Madelon                       \n",
      "correct=female   guess=male     name=Mag                           \n",
      "correct=female   guess=male     name=Mair                          \n",
      "correct=female   guess=male     name=Marget                        \n",
      "correct=female   guess=male     name=Margret                       \n",
      "correct=female   guess=male     name=Mariel                        \n",
      "correct=female   guess=male     name=Maryellen                     \n",
      "correct=female   guess=male     name=Marys                         \n",
      "correct=female   guess=male     name=Meryl                         \n",
      "correct=female   guess=male     name=Mikako                        \n",
      "correct=female   guess=male     name=Miran                         \n",
      "correct=female   guess=male     name=Nert                          \n",
      "correct=female   guess=male     name=Pearl                         \n",
      "correct=female   guess=male     name=Pen                           \n",
      "correct=female   guess=male     name=Persis                        \n",
      "correct=female   guess=male     name=Pet                           \n",
      "correct=female   guess=male     name=Rhiamon                       \n",
      "correct=female   guess=male     name=Ros                           \n",
      "correct=female   guess=male     name=Rosaleen                      \n",
      "correct=female   guess=male     name=Rosalynd                      \n",
      "correct=female   guess=male     name=Rosamond                      \n",
      "correct=female   guess=male     name=Sean                          \n",
      "correct=female   guess=male     name=Sharleen                      \n",
      "correct=female   guess=male     name=Shawn                         \n",
      "correct=female   guess=male     name=Sinead                        \n",
      "correct=female   guess=male     name=Tatum                         \n",
      "correct=female   guess=male     name=Thomasin                      \n",
      "correct=female   guess=male     name=Yehudit                       \n",
      "correct=male     guess=female   name=Adolphe                       \n",
      "correct=male     guess=female   name=Alaa                          \n",
      "correct=male     guess=female   name=Aldrich                       \n",
      "correct=male     guess=female   name=Allah                         \n",
      "correct=male     guess=female   name=Andre                         \n",
      "correct=male     guess=female   name=Archie                        \n",
      "correct=male     guess=female   name=Barnabe                       \n",
      "correct=male     guess=female   name=Barrie                        \n",
      "correct=male     guess=female   name=Benji                         \n",
      "correct=male     guess=female   name=Constantine                   \n",
      "correct=male     guess=female   name=Dewey                         \n",
      "correct=male     guess=female   name=Dmitri                        \n",
      "correct=male     guess=female   name=Duffy                         \n",
      "correct=male     guess=female   name=Durante                       \n",
      "correct=male     guess=female   name=Eddie                         \n",
      "correct=male     guess=female   name=Ely                           \n",
      "correct=male     guess=female   name=Emmery                        \n",
      "correct=male     guess=female   name=Frankie                       \n",
      "correct=male     guess=female   name=Graehme                       \n",
      "correct=male     guess=female   name=Granville                     \n",
      "correct=male     guess=female   name=Greggory                      \n",
      "correct=male     guess=female   name=Hersh                         \n",
      "correct=male     guess=female   name=Hymie                         \n",
      "correct=male     guess=female   name=Iggie                         \n",
      "correct=male     guess=female   name=Jedediah                      \n",
      "correct=male     guess=female   name=Jeffie                        \n",
      "correct=male     guess=female   name=Jeromy                        \n",
      "correct=male     guess=female   name=Juanita                       \n",
      "correct=male     guess=female   name=Lawrence                      \n",
      "correct=male     guess=female   name=Lefty                         \n",
      "correct=male     guess=female   name=Mahesh                        \n",
      "correct=male     guess=female   name=Maurie                        \n",
      "correct=male     guess=female   name=Mickey                        \n",
      "correct=male     guess=female   name=Mitch                         \n",
      "correct=male     guess=female   name=Moe                           \n",
      "correct=male     guess=female   name=Moishe                        \n",
      "correct=male     guess=female   name=Nate                          \n",
      "correct=male     guess=female   name=Neville                       \n",
      "correct=male     guess=female   name=Nichole                       \n",
      "correct=male     guess=female   name=Obadiah                       \n",
      "correct=male     guess=female   name=Osborne                       \n",
      "correct=male     guess=female   name=Pearce                        \n",
      "correct=male     guess=female   name=Pembroke                      \n",
      "correct=male     guess=female   name=Pete                          \n",
      "correct=male     guess=female   name=Pierre                        \n",
      "correct=male     guess=female   name=Radcliffe                     \n",
      "correct=male     guess=female   name=Randolph                      \n",
      "correct=male     guess=female   name=Ravi                          \n",
      "correct=male     guess=female   name=Rawley                        \n",
      "correct=male     guess=female   name=Rickey                        \n",
      "correct=male     guess=female   name=Ritchie                       \n",
      "correct=male     guess=female   name=Rudy                          \n",
      "correct=male     guess=female   name=Si                            \n",
      "correct=male     guess=female   name=Spense                        \n",
      "correct=male     guess=female   name=Terrance                      \n",
      "correct=male     guess=female   name=Tracy                         \n",
      "correct=male     guess=female   name=Ty                            \n",
      "correct=male     guess=female   name=Vasily                        \n",
      "correct=male     guess=female   name=Vijay                         \n",
      "correct=male     guess=female   name=Virgie                        \n",
      "correct=male     guess=female   name=Winny                         \n",
      "correct=male     guess=female   name=Wye                           \n",
      "correct=male     guess=female   name=Yance                         \n"
     ]
    }
   ],
   "source": [
    "for (tag, guess, name) in sorted(errors): # doctest: +ELLIPSIS +NORMALIZE_WHITESPACE\n",
    "    print('correct=%-8s guess=%-8s name=%-30s' % (tag, guess, name))"
   ]
  },
  {
   "cell_type": "code",
   "execution_count": 410,
   "metadata": {},
   "outputs": [
    {
     "name": "stdout",
     "output_type": "stream",
     "text": [
      "Error count:  122\n"
     ]
    }
   ],
   "source": [
    "print(\"Error count: \", len(errors))"
   ]
  },
  {
   "cell_type": "markdown",
   "metadata": {},
   "source": [
    "This classifier was able to correctly identify the gender of two names given to it.The accuracy of the classifier on the devtest data is approx 76%. This feature extractor and classifier algorithm combination has 122 errors when used on the devtest. We can say that the last letter feature has some effect on the accuracy of the classifier."
   ]
  },
  {
   "cell_type": "markdown",
   "metadata": {},
   "source": [
    "###  Feature 2<a id = \"feature_two\"></a>"
   ]
  },
  {
   "cell_type": "code",
   "execution_count": 411,
   "metadata": {},
   "outputs": [],
   "source": [
    "#From text 2- An example that shows overfitting\n",
    "def gender_features1(name):\n",
    "    features = {}\n",
    "    features[\"firstletter\"] = name[0].lower()\n",
    "    features[\"lastletter\"] = name[-1].lower()\n",
    "    for letter in 'abcdefghijklmnopqrstuvwxyz':\n",
    "        features[\"count(%s)\" % letter] = name.lower().count(letter)\n",
    "        features[\"has(%s)\" % letter] = (letter in name.lower())\n",
    "    return features"
   ]
  },
  {
   "cell_type": "code",
   "execution_count": 412,
   "metadata": {},
   "outputs": [],
   "source": [
    "#apply feature extractor to subsets\n",
    "train_set = [(gender_features1(n), g) for (n,g) in train_names]\n",
    "devtest_set = [(gender_features1(n), g) for (n,g) in devtest_names]\n",
    "test_set = [(gender_features1(n), g) for (n,g) in test_names]\n"
   ]
  },
  {
   "cell_type": "code",
   "execution_count": 413,
   "metadata": {},
   "outputs": [],
   "source": [
    "#apply classifier to training set\n",
    "classifier = nltk.NaiveBayesClassifier.train(train_set)"
   ]
  },
  {
   "cell_type": "code",
   "execution_count": 415,
   "metadata": {},
   "outputs": [
    {
     "name": "stdout",
     "output_type": "stream",
     "text": [
      "male\n",
      "female\n"
     ]
    }
   ],
   "source": [
    "print(classifier.classify(gender_features1('Neo'))) #male\n",
    "print(classifier.classify(gender_features1('Trinity'))) #female"
   ]
  },
  {
   "cell_type": "code",
   "execution_count": 416,
   "metadata": {},
   "outputs": [
    {
     "name": "stdout",
     "output_type": "stream",
     "text": [
      "train_set:  0.7805299539170507\n",
      "test_set:  0.762\n",
      "devtest_set:  0.758\n"
     ]
    }
   ],
   "source": [
    "# Show Accuracy of classifier on all subsets\n",
    "print(\"train_set: \", nltk.classify.accuracy(classifier, train_set))\n",
    "print(\"test_set: \", nltk.classify.accuracy(classifier, test_set))\n",
    "print(\"devtest_set: \", nltk.classify.accuracy(classifier, devtest_set))"
   ]
  },
  {
   "cell_type": "code",
   "execution_count": 417,
   "metadata": {},
   "outputs": [
    {
     "name": "stdout",
     "output_type": "stream",
     "text": [
      "Most Informative Features\n",
      "              lastletter = 'k'              male : female =     41.3 : 1.0\n",
      "              lastletter = 'a'            female : male   =     37.2 : 1.0\n",
      "              lastletter = 'f'              male : female =     15.4 : 1.0\n",
      "              lastletter = 'd'              male : female =     10.7 : 1.0\n",
      "              lastletter = 'm'              male : female =     10.3 : 1.0\n",
      "              lastletter = 'v'              male : female =      9.9 : 1.0\n",
      "                count(v) = 2              female : male   =      8.8 : 1.0\n",
      "              lastletter = 'o'              male : female =      8.6 : 1.0\n",
      "              lastletter = 'p'              male : female =      8.5 : 1.0\n",
      "              lastletter = 'r'              male : female =      6.8 : 1.0\n",
      "              lastletter = 'g'              male : female =      5.5 : 1.0\n",
      "              lastletter = 'z'              male : female =      5.1 : 1.0\n",
      "                count(a) = 3              female : male   =      5.0 : 1.0\n",
      "              lastletter = 'w'              male : female =      4.8 : 1.0\n",
      "             firstletter = 'w'              male : female =      4.7 : 1.0\n",
      "                count(w) = 1                male : female =      4.4 : 1.0\n",
      "                  has(w) = True             male : female =      4.4 : 1.0\n",
      "              lastletter = 's'              male : female =      4.2 : 1.0\n",
      "              lastletter = 't'              male : female =      4.2 : 1.0\n",
      "              lastletter = 'j'              male : female =      4.0 : 1.0\n"
     ]
    }
   ],
   "source": [
    "# Show important features - features most effective for distinguising gender by names. \n",
    "#This process   guides the design of future feature extractors.\n",
    "classifier.show_most_informative_features(20)"
   ]
  },
  {
   "cell_type": "code",
   "execution_count": 418,
   "metadata": {},
   "outputs": [],
   "source": [
    "#Check errors\n",
    "errors = []\n",
    "for (name, tag) in devtest_names:\n",
    "    guess = classifier.classify(gender_features1(name))\n",
    "    if guess != tag:\n",
    "        errors.append( (tag, guess, name) )"
   ]
  },
  {
   "cell_type": "code",
   "execution_count": 419,
   "metadata": {},
   "outputs": [
    {
     "name": "stdout",
     "output_type": "stream",
     "text": [
      "correct=female   guess=male     name=Ardyth                        \n",
      "correct=female   guess=male     name=Audry                         \n",
      "correct=female   guess=male     name=Bird                          \n",
      "correct=female   guess=male     name=Bridget                       \n",
      "correct=female   guess=male     name=Brooke                        \n",
      "correct=female   guess=male     name=Brynn                         \n",
      "correct=female   guess=male     name=Charis                        \n",
      "correct=female   guess=male     name=Chery                         \n",
      "correct=female   guess=male     name=Christin                      \n",
      "correct=female   guess=male     name=Corry                         \n",
      "correct=female   guess=male     name=Darb                          \n",
      "correct=female   guess=male     name=Dorolice                      \n",
      "correct=female   guess=male     name=Fawne                         \n",
      "correct=female   guess=male     name=Gennifer                      \n",
      "correct=female   guess=male     name=Gretchen                      \n",
      "correct=female   guess=male     name=Guenevere                     \n",
      "correct=female   guess=male     name=Heath                         \n",
      "correct=female   guess=male     name=Ingaberg                      \n",
      "correct=female   guess=male     name=Ingrid                        \n",
      "correct=female   guess=male     name=Justin                        \n",
      "correct=female   guess=male     name=Kaster                        \n",
      "correct=female   guess=male     name=Kim                           \n",
      "correct=female   guess=male     name=Kore                          \n",
      "correct=female   guess=male     name=Leanor                        \n",
      "correct=female   guess=male     name=Mag                           \n",
      "correct=female   guess=male     name=Mair                          \n",
      "correct=female   guess=male     name=Marget                        \n",
      "correct=female   guess=male     name=Margret                       \n",
      "correct=female   guess=male     name=Marys                         \n",
      "correct=female   guess=male     name=Mikako                        \n",
      "correct=female   guess=male     name=Modesty                       \n",
      "correct=female   guess=male     name=Myrah                         \n",
      "correct=female   guess=male     name=Nert                          \n",
      "correct=female   guess=male     name=Olly                          \n",
      "correct=female   guess=male     name=Pearl                         \n",
      "correct=female   guess=male     name=Pen                           \n",
      "correct=female   guess=male     name=Persis                        \n",
      "correct=female   guess=male     name=Pet                           \n",
      "correct=female   guess=male     name=Rhiamon                       \n",
      "correct=female   guess=male     name=Rhodie                        \n",
      "correct=female   guess=male     name=Rivkah                        \n",
      "correct=female   guess=male     name=Roby                          \n",
      "correct=female   guess=male     name=Ros                           \n",
      "correct=female   guess=male     name=Rosaleen                      \n",
      "correct=female   guess=male     name=Rosalynd                      \n",
      "correct=female   guess=male     name=Rosamond                      \n",
      "correct=female   guess=male     name=Rosie                         \n",
      "correct=female   guess=male     name=Shawn                         \n",
      "correct=female   guess=male     name=Sinead                        \n",
      "correct=female   guess=male     name=Tatum                         \n",
      "correct=female   guess=male     name=Thomasin                      \n",
      "correct=female   guess=male     name=Tobi                          \n",
      "correct=female   guess=male     name=Tomi                          \n",
      "correct=female   guess=male     name=Tommy                         \n",
      "correct=female   guess=male     name=Tony                          \n",
      "correct=female   guess=male     name=Trixy                         \n",
      "correct=female   guess=male     name=Winne                         \n",
      "correct=female   guess=male     name=Wynny                         \n",
      "correct=female   guess=male     name=Yehudit                       \n",
      "correct=male     guess=female   name=Adrian                        \n",
      "correct=male     guess=female   name=Alaa                          \n",
      "correct=male     guess=female   name=Alan                          \n",
      "correct=male     guess=female   name=Aldrich                       \n",
      "correct=male     guess=female   name=Alister                       \n",
      "correct=male     guess=female   name=Allah                         \n",
      "correct=male     guess=female   name=Andre                         \n",
      "correct=male     guess=female   name=Archie                        \n",
      "correct=male     guess=female   name=Barnabe                       \n",
      "correct=male     guess=female   name=Barrie                        \n",
      "correct=male     guess=female   name=Benji                         \n",
      "correct=male     guess=female   name=Bennett                       \n",
      "correct=male     guess=female   name=Constantine                   \n",
      "correct=male     guess=female   name=Devin                         \n",
      "correct=male     guess=female   name=Dmitri                        \n",
      "correct=male     guess=female   name=Earl                          \n",
      "correct=male     guess=female   name=Eddie                         \n",
      "correct=male     guess=female   name=Ely                           \n",
      "correct=male     guess=female   name=Emmery                        \n",
      "correct=male     guess=female   name=Ervin                         \n",
      "correct=male     guess=female   name=Frankie                       \n",
      "correct=male     guess=female   name=Graehme                       \n",
      "correct=male     guess=female   name=Granville                     \n",
      "correct=male     guess=female   name=Hamlin                        \n",
      "correct=male     guess=female   name=Hymie                         \n",
      "correct=male     guess=female   name=Ian                           \n",
      "correct=male     guess=female   name=Iggie                         \n",
      "correct=male     guess=female   name=Ivan                          \n",
      "correct=male     guess=female   name=Jedediah                      \n",
      "correct=male     guess=female   name=Jeffie                        \n",
      "correct=male     guess=female   name=Juan                          \n",
      "correct=male     guess=female   name=Juanita                       \n",
      "correct=male     guess=female   name=Kaiser                        \n",
      "correct=male     guess=female   name=Kenyon                        \n",
      "correct=male     guess=female   name=Lawrence                      \n",
      "correct=male     guess=female   name=Lefty                         \n",
      "correct=male     guess=female   name=Maurie                        \n",
      "correct=male     guess=female   name=Maximilien                    \n",
      "correct=male     guess=female   name=Merrel                        \n",
      "correct=male     guess=female   name=Micheil                       \n",
      "correct=male     guess=female   name=Michel                        \n",
      "correct=male     guess=female   name=Mickey                        \n",
      "correct=male     guess=female   name=Nate                          \n",
      "correct=male     guess=female   name=Nathan                        \n",
      "correct=male     guess=female   name=Nealson                       \n",
      "correct=male     guess=female   name=Neville                       \n",
      "correct=male     guess=female   name=Nichole                       \n",
      "correct=male     guess=female   name=Pearce                        \n",
      "correct=male     guess=female   name=Pierre                        \n",
      "correct=male     guess=female   name=Radcliffe                     \n",
      "correct=male     guess=female   name=Ravi                          \n",
      "correct=male     guess=female   name=Rickey                        \n",
      "correct=male     guess=female   name=Ritchie                       \n",
      "correct=male     guess=female   name=Si                            \n",
      "correct=male     guess=female   name=Silas                         \n",
      "correct=male     guess=female   name=Spense                        \n",
      "correct=male     guess=female   name=Terrance                      \n",
      "correct=male     guess=female   name=Vasily                        \n",
      "correct=male     guess=female   name=Vijay                         \n",
      "correct=male     guess=female   name=Virgie                        \n",
      "correct=male     guess=female   name=Yanaton                       \n",
      "correct=male     guess=female   name=Yance                         \n"
     ]
    }
   ],
   "source": [
    "for (tag, guess, name) in sorted(errors): # doctest: +ELLIPSIS +NORMALIZE_WHITESPACE\n",
    "    print('correct=%-8s guess=%-8s name=%-30s' % (tag, guess, name))"
   ]
  },
  {
   "cell_type": "code",
   "execution_count": 420,
   "metadata": {},
   "outputs": [
    {
     "name": "stdout",
     "output_type": "stream",
     "text": [
      "Error count:  121\n"
     ]
    }
   ],
   "source": [
    "print(\"Error count: \", len(errors))"
   ]
  },
  {
   "cell_type": "markdown",
   "metadata": {},
   "source": [
    "This classifier was also able to correctly identify the gender of two names given to it.The accuracy of the classifier on the devtest data the same as that in feature one. This feature extractor and classifier algorithm combination however had one less error. We can say that the last letter feature has some effect on the accuracy of the classifier.This  feature extractor and classifier combination has 121 errors when used on the devtest. Though fitted with more features, this feature extractor did not significantly reduce errors. Based on classifier accuracy and most_informative_features, feature one nd feature do not vary much in what they can achieve with respect to improving accuracy of gender classification.<br>"
   ]
  },
  {
   "cell_type": "markdown",
   "metadata": {},
   "source": [
    "## Part Two:  Improvement  Features<a id = \"Part_Two\"></a>"
   ]
  },
  {
   "cell_type": "markdown",
   "metadata": {},
   "source": [
    "### Feature 3<a id = \"feature_three\"></a>"
   ]
  },
  {
   "cell_type": "code",
   "execution_count": 421,
   "metadata": {},
   "outputs": [],
   "source": [
    "#Based on the informative features list, it is evident that  male and female names \n",
    "#differ a bit according letters found at the beginning and ending of their names. It is on this premise that\n",
    "#improvements will be made.\n",
    "\n",
    "#To improve on  feature extractor2 above, number 3 will include 2 letter suffix and 2 letter prefix to list of features\n",
    "def gender_features3(name):\n",
    "    features = {}\n",
    "    features[\"firstletter\"] = name[0].lower()\n",
    "    features[\"lastletter\"] = name[-1].lower()\n",
    "    features[\"suffix2\"]= name[-2:].lower()\n",
    "    features[\"prefix2\"]= name[:2].lower()\n",
    "    for letter in 'aeiou':\n",
    "        features[\"count(%s)\" % letter] = name.lower().count(letter)\n",
    "        features[\"has(%s)\" % letter] = (letter in name.lower())\n",
    "    return features"
   ]
  },
  {
   "cell_type": "code",
   "execution_count": 422,
   "metadata": {},
   "outputs": [],
   "source": [
    "#apply feature extractor to subsets\n",
    "train_set = [(gender_features3(n), g) for (n,g) in train_names]\n",
    "devtest_set = [(gender_features3(n), g) for (n,g) in devtest_names]\n",
    "test_set = [(gender_features3(n), g) for (n,g) in test_names]\n"
   ]
  },
  {
   "cell_type": "code",
   "execution_count": 423,
   "metadata": {},
   "outputs": [],
   "source": [
    "#apply classifier to training set\n",
    "classifier = nltk.NaiveBayesClassifier.train(train_set)"
   ]
  },
  {
   "cell_type": "code",
   "execution_count": 424,
   "metadata": {},
   "outputs": [
    {
     "name": "stdout",
     "output_type": "stream",
     "text": [
      "male\n",
      "female\n"
     ]
    }
   ],
   "source": [
    "print(classifier.classify(gender_features3('Neo'))) #male\n",
    "print(classifier.classify(gender_features3('Trinity'))) #female"
   ]
  },
  {
   "cell_type": "code",
   "execution_count": 425,
   "metadata": {},
   "outputs": [
    {
     "name": "stdout",
     "output_type": "stream",
     "text": [
      "train_set:  0.8086117511520737\n",
      "test_set:  0.804\n",
      "devtest_set:  0.784\n"
     ]
    }
   ],
   "source": [
    "# Show Accuracy of classifier on all subsets\n",
    "print(\"train_set: \", nltk.classify.accuracy(classifier, train_set))\n",
    "print(\"test_set: \", nltk.classify.accuracy(classifier, test_set))\n",
    "print(\"devtest_set: \", nltk.classify.accuracy(classifier, devtest_set))"
   ]
  },
  {
   "cell_type": "markdown",
   "metadata": {},
   "source": [
    "This improvement in accuracy is somewhat significant. The accuracy of of classifying the devtest subset increased by approximately 3%"
   ]
  },
  {
   "cell_type": "code",
   "execution_count": 426,
   "metadata": {},
   "outputs": [
    {
     "name": "stdout",
     "output_type": "stream",
     "text": [
      "Most Informative Features\n",
      "                 suffix2 = 'na'           female : male   =    157.4 : 1.0\n",
      "                 suffix2 = 'la'           female : male   =     69.8 : 1.0\n",
      "                 suffix2 = 'ta'           female : male   =     43.3 : 1.0\n",
      "              lastletter = 'k'              male : female =     41.3 : 1.0\n",
      "                 suffix2 = 'ld'             male : female =     39.7 : 1.0\n",
      "                 suffix2 = 'us'             male : female =     39.2 : 1.0\n",
      "              lastletter = 'a'            female : male   =     37.2 : 1.0\n",
      "                 suffix2 = 'ia'           female : male   =     37.1 : 1.0\n",
      "                 suffix2 = 'sa'           female : male   =     32.4 : 1.0\n",
      "                 suffix2 = 'rt'             male : female =     29.8 : 1.0\n",
      "                 suffix2 = 'rd'             male : female =     28.5 : 1.0\n",
      "                 suffix2 = 'do'             male : female =     26.3 : 1.0\n",
      "                 suffix2 = 'ra'           female : male   =     24.0 : 1.0\n",
      "                 suffix2 = 'ch'             male : female =     22.9 : 1.0\n",
      "              lastletter = 'f'              male : female =     15.4 : 1.0\n",
      "                 prefix2 = 'hu'             male : female =     15.1 : 1.0\n",
      "                 suffix2 = 'im'             male : female =     15.1 : 1.0\n",
      "                 suffix2 = 'io'             male : female =     14.4 : 1.0\n",
      "                 suffix2 = 'ka'           female : male   =     14.1 : 1.0\n",
      "                 suffix2 = 'ea'           female : male   =     12.1 : 1.0\n"
     ]
    }
   ],
   "source": [
    "# Show important features - features most effective for distinguising gender by names. \n",
    "#This process   guides the design of future feature extractors.\n",
    "classifier.show_most_informative_features(20)"
   ]
  },
  {
   "cell_type": "markdown",
   "metadata": {},
   "source": [
    "By including 2 letter suffix in the extractor it was greatly improved."
   ]
  },
  {
   "cell_type": "code",
   "execution_count": 427,
   "metadata": {},
   "outputs": [],
   "source": [
    "#Check errors\n",
    "errors = []\n",
    "for (name, tag) in devtest_names:\n",
    "    guess = classifier.classify(gender_features3(name))\n",
    "    if guess != tag:\n",
    "        errors.append( (tag, guess, name) )"
   ]
  },
  {
   "cell_type": "code",
   "execution_count": 428,
   "metadata": {},
   "outputs": [
    {
     "name": "stdout",
     "output_type": "stream",
     "text": [
      "correct=female   guess=male     name=Audry                         \n",
      "correct=female   guess=male     name=Bird                          \n",
      "correct=female   guess=male     name=Bridget                       \n",
      "correct=female   guess=male     name=Brooke                        \n",
      "correct=female   guess=male     name=Brynn                         \n",
      "correct=female   guess=male     name=Carol                         \n",
      "correct=female   guess=male     name=Chery                         \n",
      "correct=female   guess=male     name=Christin                      \n",
      "correct=female   guess=male     name=Clair                         \n",
      "correct=female   guess=male     name=Corry                         \n",
      "correct=female   guess=male     name=Darb                          \n",
      "correct=female   guess=male     name=Dorolice                      \n",
      "correct=female   guess=male     name=Gennifer                      \n",
      "correct=female   guess=male     name=Gillan                        \n",
      "correct=female   guess=male     name=Gretchen                      \n",
      "correct=female   guess=male     name=Guenevere                     \n",
      "correct=female   guess=male     name=Halley                        \n",
      "correct=female   guess=male     name=Heath                         \n",
      "correct=female   guess=male     name=Holly-Anne                    \n",
      "correct=female   guess=male     name=Ingrid                        \n",
      "correct=female   guess=male     name=Isabeau                       \n",
      "correct=female   guess=male     name=Isis                          \n",
      "correct=female   guess=male     name=Justin                        \n",
      "correct=female   guess=male     name=Kaster                        \n",
      "correct=female   guess=male     name=Kim                           \n",
      "correct=female   guess=male     name=Leanor                        \n",
      "correct=female   guess=male     name=Lind                          \n",
      "correct=female   guess=male     name=Madelon                       \n",
      "correct=female   guess=male     name=Mag                           \n",
      "correct=female   guess=male     name=Mair                          \n",
      "correct=female   guess=male     name=Modesty                       \n",
      "correct=female   guess=male     name=Nert                          \n",
      "correct=female   guess=male     name=Nonah                         \n",
      "correct=female   guess=male     name=Olly                          \n",
      "correct=female   guess=male     name=Pearl                         \n",
      "correct=female   guess=male     name=Pen                           \n",
      "correct=female   guess=male     name=Persis                        \n",
      "correct=female   guess=male     name=Pet                           \n",
      "correct=female   guess=male     name=Queenie                       \n",
      "correct=female   guess=male     name=Ray                           \n",
      "correct=female   guess=male     name=Rhiamon                       \n",
      "correct=female   guess=male     name=Roby                          \n",
      "correct=female   guess=male     name=Ros                           \n",
      "correct=female   guess=male     name=Rosaleen                      \n",
      "correct=female   guess=male     name=Rosalynd                      \n",
      "correct=female   guess=male     name=Rosamond                      \n",
      "correct=female   guess=male     name=Sean                          \n",
      "correct=female   guess=male     name=Shawn                         \n",
      "correct=female   guess=male     name=Sinead                        \n",
      "correct=female   guess=male     name=Tandy                         \n",
      "correct=female   guess=male     name=Tatum                         \n",
      "correct=female   guess=male     name=Thomasin                      \n",
      "correct=female   guess=male     name=Tommy                         \n",
      "correct=female   guess=male     name=Tony                          \n",
      "correct=female   guess=male     name=Tyne                          \n",
      "correct=female   guess=male     name=Veronike                      \n",
      "correct=female   guess=male     name=Wynny                         \n",
      "correct=female   guess=male     name=Yehudit                       \n",
      "correct=male     guess=female   name=Adolphe                       \n",
      "correct=male     guess=female   name=Adrian                        \n",
      "correct=male     guess=female   name=Alaa                          \n",
      "correct=male     guess=female   name=Alan                          \n",
      "correct=male     guess=female   name=Allah                         \n",
      "correct=male     guess=female   name=Andre                         \n",
      "correct=male     guess=female   name=Archie                        \n",
      "correct=male     guess=female   name=Barnabe                       \n",
      "correct=male     guess=female   name=Barrie                        \n",
      "correct=male     guess=female   name=Benji                         \n",
      "correct=male     guess=female   name=Constantine                   \n",
      "correct=male     guess=female   name=Dewey                         \n",
      "correct=male     guess=female   name=Dmitri                        \n",
      "correct=male     guess=female   name=Durante                       \n",
      "correct=male     guess=female   name=Earl                          \n",
      "correct=male     guess=female   name=Eddie                         \n",
      "correct=male     guess=female   name=Ely                           \n",
      "correct=male     guess=female   name=Emmery                        \n",
      "correct=male     guess=female   name=Frankie                       \n",
      "correct=male     guess=female   name=Graehme                       \n",
      "correct=male     guess=female   name=Granville                     \n",
      "correct=male     guess=female   name=Hymie                         \n",
      "correct=male     guess=female   name=Ivan                          \n",
      "correct=male     guess=female   name=Jedediah                      \n",
      "correct=male     guess=female   name=Jeffie                        \n",
      "correct=male     guess=female   name=Juanita                       \n",
      "correct=male     guess=female   name=Kaiser                        \n",
      "correct=male     guess=female   name=Lawrence                      \n",
      "correct=male     guess=female   name=Lefty                         \n",
      "correct=male     guess=female   name=Maurie                        \n",
      "correct=male     guess=female   name=Maximilien                    \n",
      "correct=male     guess=female   name=Merrel                        \n",
      "correct=male     guess=female   name=Micheil                       \n",
      "correct=male     guess=female   name=Michel                        \n",
      "correct=male     guess=female   name=Mickey                        \n",
      "correct=male     guess=female   name=Moishe                        \n",
      "correct=male     guess=female   name=Nate                          \n",
      "correct=male     guess=female   name=Nathan                        \n",
      "correct=male     guess=female   name=Neville                       \n",
      "correct=male     guess=female   name=Nichole                       \n",
      "correct=male     guess=female   name=Pearce                        \n",
      "correct=male     guess=female   name=Pete                          \n",
      "correct=male     guess=female   name=Pierre                        \n",
      "correct=male     guess=female   name=Ravi                          \n",
      "correct=male     guess=female   name=Ritchie                       \n",
      "correct=male     guess=female   name=Si                            \n",
      "correct=male     guess=female   name=Terrance                      \n",
      "correct=male     guess=female   name=Vasily                        \n",
      "correct=male     guess=female   name=Vijay                         \n",
      "correct=male     guess=female   name=Virgie                        \n"
     ]
    }
   ],
   "source": [
    "for (tag, guess, name) in sorted(errors): # doctest: +ELLIPSIS +NORMALIZE_WHITESPACE\n",
    "    print('correct=%-8s guess=%-8s name=%-30s' % (tag, guess, name))"
   ]
  },
  {
   "cell_type": "code",
   "execution_count": 429,
   "metadata": {},
   "outputs": [
    {
     "name": "stdout",
     "output_type": "stream",
     "text": [
      "Error count:  108\n"
     ]
    }
   ],
   "source": [
    "print(\"Error count: \", len(errors))"
   ]
  },
  {
   "cell_type": "markdown",
   "metadata": {},
   "source": [
    "This classifier was able also to correctly identify the gender of two random names given to it.The accuracy of the classifier on the devtest data improved to approx 78%. This feature extractor and classifier algorithm combination has 108 errors when used on the devtest.This is indeed great improvement. We can conclude that including first and last  letters in  features somewhat improves the accuracy of the classifier.There is also a significant reduction in errors. Thus feature 3 along with the naive bayes classifier is the best combination thus far."
   ]
  },
  {
   "cell_type": "markdown",
   "metadata": {},
   "source": [
    "### Feature 4<a id = \"feature_four\"></a>"
   ]
  },
  {
   "cell_type": "code",
   "execution_count": 430,
   "metadata": {},
   "outputs": [],
   "source": [
    "## We will improve feature extractor by including multiple fits and last letters \n",
    "#as well as checking the vowel the name ends with \n",
    "def gender_features4(word):\n",
    "    return {'first3_letter': word[0:3],\n",
    "            'last2_letter': word[-2:],\n",
    "            'last_is_vowel' : (word[-1] in 'aeiouy')}"
   ]
  },
  {
   "cell_type": "code",
   "execution_count": 431,
   "metadata": {},
   "outputs": [],
   "source": [
    "#apply feature extractor to subsets\n",
    "train_set = [(gender_features4(n), g) for (n,g) in train_names]\n",
    "devtest_set = [(gender_features4(n), g) for (n,g) in devtest_names]\n",
    "test_set = [(gender_features4(n), g) for (n,g) in test_names]\n"
   ]
  },
  {
   "cell_type": "code",
   "execution_count": 432,
   "metadata": {},
   "outputs": [],
   "source": [
    "#apply classifier to training set\n",
    "classifier = nltk.NaiveBayesClassifier.train(train_set)"
   ]
  },
  {
   "cell_type": "code",
   "execution_count": 433,
   "metadata": {},
   "outputs": [
    {
     "name": "stdout",
     "output_type": "stream",
     "text": [
      "male\n",
      "female\n"
     ]
    }
   ],
   "source": [
    "print(classifier.classify(gender_features4('Neo'))) #male\n",
    "print(classifier.classify(gender_features4('Trinity'))) #female"
   ]
  },
  {
   "cell_type": "code",
   "execution_count": 434,
   "metadata": {},
   "outputs": [
    {
     "name": "stdout",
     "output_type": "stream",
     "text": [
      "train_set:  0.8542626728110599\n",
      "test_set:  0.804\n",
      "devtest_set:  0.808\n"
     ]
    }
   ],
   "source": [
    "# Show Accuracy of classifier on all subsets\n",
    "print(\"train_set: \", nltk.classify.accuracy(classifier, train_set))\n",
    "print(\"test_set: \", nltk.classify.accuracy(classifier, test_set))\n",
    "print(\"devtest_set: \", nltk.classify.accuracy(classifier, devtest_set))"
   ]
  },
  {
   "cell_type": "code",
   "execution_count": 435,
   "metadata": {},
   "outputs": [
    {
     "name": "stdout",
     "output_type": "stream",
     "text": [
      "Most Informative Features\n",
      "                 suffix2 = 'na'           female : male   =    157.5 : 1.0\n",
      "                 suffix2 = 'la'           female : male   =     69.5 : 1.0\n",
      "                 suffix2 = 'ta'           female : male   =     43.4 : 1.0\n",
      "                 suffix2 = 'ld'             male : female =     39.6 : 1.0\n",
      "                 suffix2 = 'us'             male : female =     39.2 : 1.0\n",
      "                 suffix2 = 'ia'           female : male   =     37.1 : 1.0\n",
      "                 suffix2 = 'sa'           female : male   =     32.5 : 1.0\n",
      "                 suffix2 = 'rt'             male : female =     29.8 : 1.0\n",
      "                 suffix2 = 'rd'             male : female =     28.5 : 1.0\n",
      "                 suffix2 = 'do'             male : female =     26.2 : 1.0\n",
      "                 suffix2 = 'ra'           female : male   =     24.0 : 1.0\n",
      "                 suffix2 = 'ch'             male : female =     22.9 : 1.0\n",
      "           first3_letter = 'Dor'          female : male   =     16.4 : 1.0\n",
      "           first3_letter = 'Mel'          female : male   =     15.9 : 1.0\n",
      "                 suffix2 = 'im'             male : female =     15.1 : 1.0\n",
      "                 suffix2 = 'io'             male : female =     14.4 : 1.0\n",
      "                 suffix2 = 'ka'           female : male   =     14.1 : 1.0\n",
      "           first3_letter = 'Tha'            male : female =     14.1 : 1.0\n",
      "                 suffix2 = 'em'             male : female =     12.8 : 1.0\n",
      "                 suffix2 = 'ea'           female : male   =     12.1 : 1.0\n"
     ]
    }
   ],
   "source": [
    "# Show important features - features most effective for distinguising gender by names. \n",
    "#This process   guides the design of future feature extractors.\n",
    "classifier.show_most_informative_features(20)"
   ]
  },
  {
   "cell_type": "code",
   "execution_count": 436,
   "metadata": {},
   "outputs": [],
   "source": [
    "#Check errors\n",
    "errors = []\n",
    "for (name, tag) in devtest_names:\n",
    "    guess = classifier.classify(gender_features4(name))\n",
    "    if guess != tag:\n",
    "        errors.append( (tag, guess, name) )"
   ]
  },
  {
   "cell_type": "code",
   "execution_count": 437,
   "metadata": {},
   "outputs": [
    {
     "name": "stdout",
     "output_type": "stream",
     "text": [
      "correct=female   guess=male     name=Arabel                        \n",
      "correct=female   guess=male     name=Bird                          \n",
      "correct=female   guess=male     name=Brooke                        \n",
      "correct=female   guess=male     name=Brynn                         \n",
      "correct=female   guess=male     name=Carol                         \n",
      "correct=female   guess=male     name=Caroljean                     \n",
      "correct=female   guess=male     name=Charis                        \n",
      "correct=female   guess=male     name=Christin                      \n",
      "correct=female   guess=male     name=Clair                         \n",
      "correct=female   guess=male     name=Claribel                      \n",
      "correct=female   guess=male     name=Darb                          \n",
      "correct=female   guess=male     name=Dierdre                       \n",
      "correct=female   guess=male     name=Elizabeth                     \n",
      "correct=female   guess=male     name=Gennifer                      \n",
      "correct=female   guess=male     name=Gillan                        \n",
      "correct=female   guess=male     name=Gretchen                      \n",
      "correct=female   guess=male     name=Heath                         \n",
      "correct=female   guess=male     name=Ingaberg                      \n",
      "correct=female   guess=male     name=Ingrid                        \n",
      "correct=female   guess=male     name=Isabeau                       \n",
      "correct=female   guess=male     name=Isis                          \n",
      "correct=female   guess=male     name=Jaynell                       \n",
      "correct=female   guess=male     name=Justin                        \n",
      "correct=female   guess=male     name=Kaster                        \n",
      "correct=female   guess=male     name=Kim                           \n",
      "correct=female   guess=male     name=Laural                        \n",
      "correct=female   guess=male     name=Leanor                        \n",
      "correct=female   guess=male     name=Lind                          \n",
      "correct=female   guess=male     name=Madelon                       \n",
      "correct=female   guess=male     name=Mag                           \n",
      "correct=female   guess=male     name=Mair                          \n",
      "correct=female   guess=male     name=Marget                        \n",
      "correct=female   guess=male     name=Margret                       \n",
      "correct=female   guess=male     name=Mariel                        \n",
      "correct=female   guess=male     name=Mei                           \n",
      "correct=female   guess=male     name=Meryl                         \n",
      "correct=female   guess=male     name=Mikako                        \n",
      "correct=female   guess=male     name=Nert                          \n",
      "correct=female   guess=male     name=Pen                           \n",
      "correct=female   guess=male     name=Persis                        \n",
      "correct=female   guess=male     name=Pet                           \n",
      "correct=female   guess=male     name=Ray                           \n",
      "correct=female   guess=male     name=Rhiamon                       \n",
      "correct=female   guess=male     name=Ros                           \n",
      "correct=female   guess=male     name=Rosalynd                      \n",
      "correct=female   guess=male     name=Rosamond                      \n",
      "correct=female   guess=male     name=Sean                          \n",
      "correct=female   guess=male     name=Sharleen                      \n",
      "correct=female   guess=male     name=Sinead                        \n",
      "correct=female   guess=male     name=Tatum                         \n",
      "correct=female   guess=male     name=Thomasin                      \n",
      "correct=female   guess=male     name=Veronike                      \n",
      "correct=female   guess=male     name=Yehudit                       \n",
      "correct=male     guess=female   name=Adolphe                       \n",
      "correct=male     guess=female   name=Alaa                          \n",
      "correct=male     guess=female   name=Allah                         \n",
      "correct=male     guess=female   name=Andre                         \n",
      "correct=male     guess=female   name=Barrie                        \n",
      "correct=male     guess=female   name=Benji                         \n",
      "correct=male     guess=female   name=Bo                            \n",
      "correct=male     guess=female   name=Constantine                   \n",
      "correct=male     guess=female   name=Cornellis                     \n",
      "correct=male     guess=female   name=Dewey                         \n",
      "correct=male     guess=female   name=Dmitri                        \n",
      "correct=male     guess=female   name=Durante                       \n",
      "correct=male     guess=female   name=Eddie                         \n",
      "correct=male     guess=female   name=Ely                           \n",
      "correct=male     guess=female   name=Emmery                        \n",
      "correct=male     guess=female   name=Frankie                       \n",
      "correct=male     guess=female   name=Graehme                       \n",
      "correct=male     guess=female   name=Granville                     \n",
      "correct=male     guess=female   name=Greggory                      \n",
      "correct=male     guess=female   name=Hymie                         \n",
      "correct=male     guess=female   name=Iggie                         \n",
      "correct=male     guess=female   name=Jeromy                        \n",
      "correct=male     guess=female   name=Juanita                       \n",
      "correct=male     guess=female   name=Lefty                         \n",
      "correct=male     guess=female   name=Maurie                        \n",
      "correct=male     guess=female   name=Mickey                        \n",
      "correct=male     guess=female   name=Moishe                        \n",
      "correct=male     guess=female   name=Nate                          \n",
      "correct=male     guess=female   name=Neville                       \n",
      "correct=male     guess=female   name=Nichole                       \n",
      "correct=male     guess=female   name=Paulo                         \n",
      "correct=male     guess=female   name=Pearce                        \n",
      "correct=male     guess=female   name=Pete                          \n",
      "correct=male     guess=female   name=Ravi                          \n",
      "correct=male     guess=female   name=Rawley                        \n",
      "correct=male     guess=female   name=Ritchie                       \n",
      "correct=male     guess=female   name=Si                            \n",
      "correct=male     guess=female   name=Terrance                      \n",
      "correct=male     guess=female   name=Tracy                         \n",
      "correct=male     guess=female   name=Ty                            \n",
      "correct=male     guess=female   name=Virgie                        \n",
      "correct=male     guess=female   name=Winny                         \n",
      "correct=male     guess=female   name=Wye                           \n"
     ]
    }
   ],
   "source": [
    "for (tag, guess, name) in sorted(errors): # doctest: +ELLIPSIS +NORMALIZE_WHITESPACE\n",
    "    print('correct=%-8s guess=%-8s name=%-30s' % (tag, guess, name))"
   ]
  },
  {
   "cell_type": "code",
   "execution_count": 438,
   "metadata": {},
   "outputs": [
    {
     "name": "stdout",
     "output_type": "stream",
     "text": [
      "Error count:  96\n"
     ]
    }
   ],
   "source": [
    "print(\"Error count: \", len(errors))"
   ]
  },
  {
   "cell_type": "markdown",
   "metadata": {},
   "source": [
    "This classifier was able also to correctly identify the gender of two random names given to it.The accuracy of the classifier on the devtest data improved to approx 81%. This is an even better classifier! This feature extractor and classifier algorithm combination has 96 errors when used on the devtest.This is indeed great improvement. We can conclude that including multiple first and last  letters letters along with checking the ending vowel in  features somewhat improves the accuracy of the classifier.Thus feature 4 along with the naive bayes classifier is the best combination thus far.Errors reduced to 96 significantly improved accuracy."
   ]
  },
  {
   "cell_type": "markdown",
   "metadata": {},
   "source": [
    "### Feature 5<a id = \"feature_five\"></a>"
   ]
  },
  {
   "cell_type": "code",
   "execution_count": 440,
   "metadata": {},
   "outputs": [],
   "source": [
    "## this feature extends the number of last letters\n",
    "def gender_features5(word):\n",
    "    return {'first3_letter': word[0:3],\n",
    "            'last3_letter': word[-3:],\n",
    "            'last_is_vowel' : (word[-1] in 'aeiouy')}"
   ]
  },
  {
   "cell_type": "code",
   "execution_count": 441,
   "metadata": {},
   "outputs": [],
   "source": [
    "#apply feature extractor to subsets\n",
    "train_set = [(gender_features5(n), g) for (n,g) in train_names]\n",
    "devtest_set = [(gender_features5(n), g) for (n,g) in devtest_names]\n",
    "test_set = [(gender_features5(n), g) for (n,g) in test_names]\n"
   ]
  },
  {
   "cell_type": "code",
   "execution_count": 442,
   "metadata": {},
   "outputs": [],
   "source": [
    "#apply classifier to training set\n",
    "classifier = nltk.NaiveBayesClassifier.train(train_set)"
   ]
  },
  {
   "cell_type": "code",
   "execution_count": 336,
   "metadata": {},
   "outputs": [
    {
     "name": "stdout",
     "output_type": "stream",
     "text": [
      "female\n",
      "female\n"
     ]
    }
   ],
   "source": [
    "print(classifier.classify(gender_features5('Neo'))) #male\n",
    "print(classifier.classify(gender_features5('Trinity'))) #female"
   ]
  },
  {
   "cell_type": "code",
   "execution_count": 443,
   "metadata": {},
   "outputs": [
    {
     "name": "stdout",
     "output_type": "stream",
     "text": [
      "train_set:  0.8832085253456221\n",
      "test_set:  0.828\n",
      "devtest_set:  0.818\n"
     ]
    }
   ],
   "source": [
    "# Show Accuracy of classifier on all subsets\n",
    "print(\"train_set: \", nltk.classify.accuracy(classifier, train_set))\n",
    "print(\"test_set: \", nltk.classify.accuracy(classifier, test_set))\n",
    "print(\"devtest_set: \", nltk.classify.accuracy(classifier, devtest_set))"
   ]
  },
  {
   "cell_type": "code",
   "execution_count": 444,
   "metadata": {},
   "outputs": [
    {
     "name": "stdout",
     "output_type": "stream",
     "text": [
      "Most Informative Features\n",
      "            last3_letter = 'ita'          female : male   =     25.9 : 1.0\n",
      "            last3_letter = 'ana'          female : male   =     24.6 : 1.0\n",
      "            last3_letter = 'ard'            male : female =     19.8 : 1.0\n",
      "            last3_letter = 'nne'          female : male   =     18.6 : 1.0\n",
      "           first3_letter = 'Dor'          female : male   =     16.4 : 1.0\n",
      "           first3_letter = 'Mel'          female : male   =     15.9 : 1.0\n",
      "            last3_letter = 'ert'            male : female =     15.2 : 1.0\n",
      "           first3_letter = 'Tha'            male : female =     14.1 : 1.0\n",
      "            last3_letter = 'ria'          female : male   =     13.5 : 1.0\n",
      "            last3_letter = 'ela'          female : male   =     13.1 : 1.0\n",
      "            last3_letter = 'vin'            male : female =     13.0 : 1.0\n",
      "           first3_letter = 'Cat'          female : male   =     12.1 : 1.0\n",
      "            last3_letter = 'mon'            male : female =     11.9 : 1.0\n",
      "            last3_letter = 'dra'          female : male   =     11.4 : 1.0\n",
      "            last3_letter = 'nni'          female : male   =     10.9 : 1.0\n",
      "            last3_letter = 'son'            male : female =     10.9 : 1.0\n",
      "           first3_letter = 'Gar'            male : female =     10.1 : 1.0\n",
      "            last3_letter = 'ias'            male : female =      9.9 : 1.0\n",
      "            last3_letter = 'lle'          female : male   =      9.6 : 1.0\n",
      "            last3_letter = 'ter'            male : female =      9.2 : 1.0\n"
     ]
    }
   ],
   "source": [
    "# Show important features - features most effective for distinguising gender by names. \n",
    "#This process   guides the design of future feature extractors.\n",
    "classifier.show_most_informative_features(20)"
   ]
  },
  {
   "cell_type": "code",
   "execution_count": 445,
   "metadata": {},
   "outputs": [],
   "source": [
    "#Check errors\n",
    "errors = []\n",
    "for (name, tag) in devtest_names:\n",
    "    guess = classifier.classify(gender_features5(name))\n",
    "    if guess != tag:\n",
    "        errors.append( (tag, guess, name) )"
   ]
  },
  {
   "cell_type": "code",
   "execution_count": 446,
   "metadata": {},
   "outputs": [
    {
     "name": "stdout",
     "output_type": "stream",
     "text": [
      "correct=female   guess=male     name=Bird                          \n",
      "correct=female   guess=male     name=Brooke                        \n",
      "correct=female   guess=male     name=Brynn                         \n",
      "correct=female   guess=male     name=Carol                         \n",
      "correct=female   guess=male     name=Charis                        \n",
      "correct=female   guess=male     name=Christin                      \n",
      "correct=female   guess=male     name=Clair                         \n",
      "correct=female   guess=male     name=Cookie                        \n",
      "correct=female   guess=male     name=Darb                          \n",
      "correct=female   guess=male     name=Emili                         \n",
      "correct=female   guess=male     name=Gillan                        \n",
      "correct=female   guess=male     name=Gretchen                      \n",
      "correct=female   guess=male     name=Heath                         \n",
      "correct=female   guess=male     name=Ingaberg                      \n",
      "correct=female   guess=male     name=Ingrid                        \n",
      "correct=female   guess=male     name=Isabeau                       \n",
      "correct=female   guess=male     name=Isis                          \n",
      "correct=female   guess=male     name=Jaynell                       \n",
      "correct=female   guess=male     name=Justin                        \n",
      "correct=female   guess=male     name=Kaster                        \n",
      "correct=female   guess=male     name=Kim                           \n",
      "correct=female   guess=male     name=Lind                          \n",
      "correct=female   guess=male     name=Madelon                       \n",
      "correct=female   guess=male     name=Mag                           \n",
      "correct=female   guess=male     name=Mair                          \n",
      "correct=female   guess=male     name=Margret                       \n",
      "correct=female   guess=male     name=Mariel                        \n",
      "correct=female   guess=male     name=Marys                         \n",
      "correct=female   guess=male     name=Mei                           \n",
      "correct=female   guess=male     name=Meryl                         \n",
      "correct=female   guess=male     name=Mikako                        \n",
      "correct=female   guess=male     name=Nert                          \n",
      "correct=female   guess=male     name=Pearl                         \n",
      "correct=female   guess=male     name=Pen                           \n",
      "correct=female   guess=male     name=Persis                        \n",
      "correct=female   guess=male     name=Pet                           \n",
      "correct=female   guess=male     name=Rafa                          \n",
      "correct=female   guess=male     name=Ray                           \n",
      "correct=female   guess=male     name=Rhiamon                       \n",
      "correct=female   guess=male     name=Sean                          \n",
      "correct=female   guess=male     name=Sinead                        \n",
      "correct=female   guess=male     name=Stace                         \n",
      "correct=female   guess=male     name=Tatum                         \n",
      "correct=female   guess=male     name=Thomasin                      \n",
      "correct=female   guess=male     name=Tyne                          \n",
      "correct=female   guess=male     name=Yehudit                       \n",
      "correct=male     guess=female   name=Adrian                        \n",
      "correct=male     guess=female   name=Alaa                          \n",
      "correct=male     guess=female   name=Alic                          \n",
      "correct=male     guess=female   name=Allah                         \n",
      "correct=male     guess=female   name=Andre                         \n",
      "correct=male     guess=female   name=Barrie                        \n",
      "correct=male     guess=female   name=Benji                         \n",
      "correct=male     guess=female   name=Bo                            \n",
      "correct=male     guess=female   name=Chris                         \n",
      "correct=male     guess=female   name=Constantine                   \n",
      "correct=male     guess=female   name=Cornellis                     \n",
      "correct=male     guess=female   name=Dewey                         \n",
      "correct=male     guess=female   name=Eddie                         \n",
      "correct=male     guess=female   name=Ely                           \n",
      "correct=male     guess=female   name=Emmery                        \n",
      "correct=male     guess=female   name=Frankie                       \n",
      "correct=male     guess=female   name=Graehme                       \n",
      "correct=male     guess=female   name=Granville                     \n",
      "correct=male     guess=female   name=Greggory                      \n",
      "correct=male     guess=female   name=Jeromy                        \n",
      "correct=male     guess=female   name=Juan                          \n",
      "correct=male     guess=female   name=Juanita                       \n",
      "correct=male     guess=female   name=Lefty                         \n",
      "correct=male     guess=female   name=Maurie                        \n",
      "correct=male     guess=female   name=Mickey                        \n",
      "correct=male     guess=female   name=Moe                           \n",
      "correct=male     guess=female   name=Nate                          \n",
      "correct=male     guess=female   name=Neville                       \n",
      "correct=male     guess=female   name=Nichole                       \n",
      "correct=male     guess=female   name=Paulo                         \n",
      "correct=male     guess=female   name=Pearce                        \n",
      "correct=male     guess=female   name=Pete                          \n",
      "correct=male     guess=female   name=Ravi                          \n",
      "correct=male     guess=female   name=Rawley                        \n",
      "correct=male     guess=female   name=Rhett                         \n",
      "correct=male     guess=female   name=Ritchie                       \n",
      "correct=male     guess=female   name=Sargent                       \n",
      "correct=male     guess=female   name=Si                            \n",
      "correct=male     guess=female   name=Terrance                      \n",
      "correct=male     guess=female   name=Tracy                         \n",
      "correct=male     guess=female   name=Ty                            \n",
      "correct=male     guess=female   name=Vijay                         \n",
      "correct=male     guess=female   name=Virgie                        \n",
      "correct=male     guess=female   name=Winny                         \n",
      "correct=male     guess=female   name=Wye                           \n"
     ]
    }
   ],
   "source": [
    "for (tag, guess, name) in sorted(errors): # doctest: +ELLIPSIS +NORMALIZE_WHITESPACE\n",
    "    print('correct=%-8s guess=%-8s name=%-30s' % (tag, guess, name))"
   ]
  },
  {
   "cell_type": "code",
   "execution_count": 447,
   "metadata": {},
   "outputs": [
    {
     "name": "stdout",
     "output_type": "stream",
     "text": [
      "Error count:  91\n"
     ]
    }
   ],
   "source": [
    "print(\"Error count: \", len(errors))"
   ]
  },
  {
   "cell_type": "markdown",
   "metadata": {},
   "source": [
    "This classifier incorrectly identifies the gender of two random names given to it.The accuracy of the classifier on the devtest data improved to approx 82%. This feature extractor and classifier algorithm combination has 91 errors when used on the devtest.This is an improvement over the precious feature. We can conclude that including first and last  letters in  features somewhat improves the accuracy of the classifier.There is also a significant reduction in errors. Thus feature 5 along with the naive bayes classifier is the best combination thus far."
   ]
  },
  {
   "cell_type": "markdown",
   "metadata": {},
   "source": [
    "### Feature 6<a id = \"feature_six\"></a>"
   ]
  },
  {
   "cell_type": "code",
   "execution_count": 448,
   "metadata": {},
   "outputs": [],
   "source": [
    "##looks take both 3rd and 2nd last letters.\n",
    "def gender_features6(word):\n",
    "    return {'first3_letter': word[0:3],\n",
    "            'last3_letter': word[-3:],\n",
    "            'last2_letter': word[-3:],\n",
    "            'last_is_vowel' : (word[-1] in 'aeiouy')}"
   ]
  },
  {
   "cell_type": "code",
   "execution_count": 449,
   "metadata": {},
   "outputs": [],
   "source": [
    "#apply feature extractor to subsets\n",
    "train_set = [(gender_features6(n), g) for (n,g) in train_names]\n",
    "devtest_set = [(gender_features6(n), g) for (n,g) in devtest_names]\n",
    "test_set = [(gender_features6(n), g) for (n,g) in test_names]\n"
   ]
  },
  {
   "cell_type": "code",
   "execution_count": 450,
   "metadata": {},
   "outputs": [],
   "source": [
    "#apply classifier to training set\n",
    "classifier = nltk.NaiveBayesClassifier.train(train_set)"
   ]
  },
  {
   "cell_type": "code",
   "execution_count": 451,
   "metadata": {},
   "outputs": [
    {
     "name": "stdout",
     "output_type": "stream",
     "text": [
      "male\n",
      "female\n"
     ]
    }
   ],
   "source": [
    "print(classifier.classify(gender_features6('Neo'))) #male\n",
    "print(classifier.classify(gender_features6('Trinity'))) #female"
   ]
  },
  {
   "cell_type": "code",
   "execution_count": 452,
   "metadata": {},
   "outputs": [
    {
     "name": "stdout",
     "output_type": "stream",
     "text": [
      "train_set:  0.8847926267281107\n",
      "test_set:  0.822\n",
      "devtest_set:  0.834\n"
     ]
    }
   ],
   "source": [
    "# Show Accuracy of classifier on all subsets\n",
    "print(\"train_set: \", nltk.classify.accuracy(classifier, train_set))\n",
    "print(\"test_set: \", nltk.classify.accuracy(classifier, test_set))\n",
    "print(\"devtest_set: \", nltk.classify.accuracy(classifier, devtest_set))"
   ]
  },
  {
   "cell_type": "code",
   "execution_count": 453,
   "metadata": {},
   "outputs": [
    {
     "name": "stdout",
     "output_type": "stream",
     "text": [
      "Most Informative Features\n",
      "            last2_letter = 'ita'          female : male   =     25.9 : 1.0\n",
      "            last3_letter = 'ita'          female : male   =     25.9 : 1.0\n",
      "            last3_letter = 'ana'          female : male   =     24.6 : 1.0\n",
      "            last2_letter = 'ana'          female : male   =     24.6 : 1.0\n",
      "            last3_letter = 'ard'            male : female =     19.8 : 1.0\n",
      "            last2_letter = 'ard'            male : female =     19.8 : 1.0\n",
      "            last3_letter = 'nne'          female : male   =     18.6 : 1.0\n",
      "            last2_letter = 'nne'          female : male   =     18.6 : 1.0\n",
      "           first3_letter = 'Dor'          female : male   =     16.4 : 1.0\n",
      "           first3_letter = 'Mel'          female : male   =     15.9 : 1.0\n",
      "            last2_letter = 'ert'            male : female =     15.2 : 1.0\n",
      "            last3_letter = 'ert'            male : female =     15.2 : 1.0\n",
      "           first3_letter = 'Tha'            male : female =     14.1 : 1.0\n",
      "            last3_letter = 'ria'          female : male   =     13.5 : 1.0\n",
      "            last2_letter = 'ria'          female : male   =     13.5 : 1.0\n",
      "            last3_letter = 'ela'          female : male   =     13.1 : 1.0\n",
      "            last2_letter = 'ela'          female : male   =     13.1 : 1.0\n",
      "            last3_letter = 'vin'            male : female =     13.0 : 1.0\n",
      "            last2_letter = 'vin'            male : female =     13.0 : 1.0\n",
      "           first3_letter = 'Cat'          female : male   =     12.1 : 1.0\n"
     ]
    }
   ],
   "source": [
    "# Show important features - features most effective for distinguising gender by names. \n",
    "#This process   guides the design of future feature extractors.\n",
    "classifier.show_most_informative_features(20)"
   ]
  },
  {
   "cell_type": "code",
   "execution_count": 454,
   "metadata": {},
   "outputs": [],
   "source": [
    "#Check errors\n",
    "errors = []\n",
    "for (name, tag) in devtest_names:\n",
    "    guess = classifier.classify(gender_features6(name))\n",
    "    if guess != tag:\n",
    "        errors.append( (tag, guess, name) )"
   ]
  },
  {
   "cell_type": "code",
   "execution_count": 455,
   "metadata": {},
   "outputs": [
    {
     "name": "stdout",
     "output_type": "stream",
     "text": [
      "correct=female   guess=male     name=Bird                          \n",
      "correct=female   guess=male     name=Brooke                        \n",
      "correct=female   guess=male     name=Calley                        \n",
      "correct=female   guess=male     name=Carol                         \n",
      "correct=female   guess=male     name=Charis                        \n",
      "correct=female   guess=male     name=Chery                         \n",
      "correct=female   guess=male     name=Christin                      \n",
      "correct=female   guess=male     name=Clair                         \n",
      "correct=female   guess=male     name=Cookie                        \n",
      "correct=female   guess=male     name=Edna                          \n",
      "correct=female   guess=male     name=Emili                         \n",
      "correct=female   guess=male     name=Gillan                        \n",
      "correct=female   guess=male     name=Gretchen                      \n",
      "correct=female   guess=male     name=Halley                        \n",
      "correct=female   guess=male     name=Heath                         \n",
      "correct=female   guess=male     name=Hildegarde                    \n",
      "correct=female   guess=male     name=Ina                           \n",
      "correct=female   guess=male     name=Ingrid                        \n",
      "correct=female   guess=male     name=Isabeau                       \n",
      "correct=female   guess=male     name=Isis                          \n",
      "correct=female   guess=male     name=Jaynell                       \n",
      "correct=female   guess=male     name=Justin                        \n",
      "correct=female   guess=male     name=Kaster                        \n",
      "correct=female   guess=male     name=Kim                           \n",
      "correct=female   guess=male     name=Lind                          \n",
      "correct=female   guess=male     name=Madelon                       \n",
      "correct=female   guess=male     name=Mag                           \n",
      "correct=female   guess=male     name=Mair                          \n",
      "correct=female   guess=male     name=Margret                       \n",
      "correct=female   guess=male     name=Mariel                        \n",
      "correct=female   guess=male     name=Marne                         \n",
      "correct=female   guess=male     name=Marys                         \n",
      "correct=female   guess=male     name=Mei                           \n",
      "correct=female   guess=male     name=Mikako                        \n",
      "correct=female   guess=male     name=Nert                          \n",
      "correct=female   guess=male     name=Ora                           \n",
      "correct=female   guess=male     name=Pearl                         \n",
      "correct=female   guess=male     name=Pen                           \n",
      "correct=female   guess=male     name=Persis                        \n",
      "correct=female   guess=male     name=Pet                           \n",
      "correct=female   guess=male     name=Rafa                          \n",
      "correct=female   guess=male     name=Ray                           \n",
      "correct=female   guess=male     name=Rhiamon                       \n",
      "correct=female   guess=male     name=Rosalynd                      \n",
      "correct=female   guess=male     name=Rosamond                      \n",
      "correct=female   guess=male     name=Sean                          \n",
      "correct=female   guess=male     name=Sinead                        \n",
      "correct=female   guess=male     name=Stace                         \n",
      "correct=female   guess=male     name=Tatum                         \n",
      "correct=female   guess=male     name=Thomasin                      \n",
      "correct=female   guess=male     name=Tommy                         \n",
      "correct=female   guess=male     name=Tybi                          \n",
      "correct=female   guess=male     name=Yehudit                       \n",
      "correct=male     guess=female   name=Alaa                          \n",
      "correct=male     guess=female   name=Allah                         \n",
      "correct=male     guess=female   name=Andre                         \n",
      "correct=male     guess=female   name=Archie                        \n",
      "correct=male     guess=female   name=Barrie                        \n",
      "correct=male     guess=female   name=Bear                          \n",
      "correct=male     guess=female   name=Bo                            \n",
      "correct=male     guess=female   name=Chris                         \n",
      "correct=male     guess=female   name=Constantine                   \n",
      "correct=male     guess=female   name=Cornellis                     \n",
      "correct=male     guess=female   name=Eddie                         \n",
      "correct=male     guess=female   name=Ely                           \n",
      "correct=male     guess=female   name=Frankie                       \n",
      "correct=male     guess=female   name=Graehme                       \n",
      "correct=male     guess=female   name=Granville                     \n",
      "correct=male     guess=female   name=Greggory                      \n",
      "correct=male     guess=female   name=Hermann                       \n",
      "correct=male     guess=female   name=Jeromy                        \n",
      "correct=male     guess=female   name=Juanita                       \n",
      "correct=male     guess=female   name=Maurie                        \n",
      "correct=male     guess=female   name=Nate                          \n",
      "correct=male     guess=female   name=Neville                       \n",
      "correct=male     guess=female   name=Nichole                       \n",
      "correct=male     guess=female   name=Paulo                         \n",
      "correct=male     guess=female   name=Pete                          \n",
      "correct=male     guess=female   name=Rhett                         \n",
      "correct=male     guess=female   name=Ritchie                       \n",
      "correct=male     guess=female   name=Tracy                         \n",
      "correct=male     guess=female   name=Virgie                        \n",
      "correct=male     guess=female   name=Winny                         \n"
     ]
    }
   ],
   "source": [
    "for (tag, guess, name) in sorted(errors): # doctest: +ELLIPSIS +NORMALIZE_WHITESPACE\n",
    "    print('correct=%-8s guess=%-8s name=%-30s' % (tag, guess, name))"
   ]
  },
  {
   "cell_type": "code",
   "execution_count": 456,
   "metadata": {},
   "outputs": [
    {
     "name": "stdout",
     "output_type": "stream",
     "text": [
      "Error count:  83\n"
     ]
    }
   ],
   "source": [
    "print(\"Error count: \", len(errors))"
   ]
  },
  {
   "cell_type": "markdown",
   "metadata": {},
   "source": [
    "This classifier was able also to correctly identify the gender of two random names given to it.The accuracy of the classifier on the devtest data improved to approx 83%. This feature extractor and classifier algorithm combination has only 83 errors when used on the devtest.This is indeed great improvement. We can conclude that including multiple first and last  letters in  features somewhat improves the accuracy of the classifier.There is also a significant reduction in errors. Thus feature 6 along with the naive bayes classifier is the best combination thus far."
   ]
  },
  {
   "cell_type": "markdown",
   "metadata": {},
   "source": [
    "## Conclusion<a id = \"conclusion\"></a>"
   ]
  },
  {
   "cell_type": "markdown",
   "metadata": {},
   "source": [
    "By checking for multiple first and last letters as well as if last letter is a vowel, one can incrementally improve the gender classification of names. There is still room for improving the accuracy of the classifier. One way this  could be done is by using the feature extractor with a different classifying algorithm such as  a decision tree. Throughout the project, the classifier's performance across three subsets of data was continually observed. There was no significant difference between the two across each trial. The accuracy of the classifier on each subset both showed incremenal improvement."
   ]
  }
 ],
 "metadata": {
  "kernelspec": {
   "display_name": "Python 3",
   "language": "python",
   "name": "python3"
  },
  "language_info": {
   "codemirror_mode": {
    "name": "ipython",
    "version": 3
   },
   "file_extension": ".py",
   "mimetype": "text/x-python",
   "name": "python",
   "nbconvert_exporter": "python",
   "pygments_lexer": "ipython3",
   "version": "3.7.1"
  }
 },
 "nbformat": 4,
 "nbformat_minor": 2
}
